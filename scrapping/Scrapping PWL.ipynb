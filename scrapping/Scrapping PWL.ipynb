{
 "cells": [
  {
   "cell_type": "code",
   "execution_count": 40,
   "metadata": {},
   "outputs": [],
   "source": [
    "import requests\n",
    "from bs4 import BeautifulSoup\n",
    "import pandas as pd\n",
    "\n",
    "urlGoal = \"https://www.goal.com/id\"\n",
    "responseGoal = requests.request(\"GET\", urlGoal).text\n",
    "dataGoal = BeautifulSoup(responseGoal, \"html.parser\")\n",
    "\n",
    "urlPandit = \"https://www.panditfootball.com\"\n",
    "responsePandit = requests.request(\"GET\", urlPandit).text\n",
    "dataPandit = BeautifulSoup(responsePandit, \"html.parser\")\n",
    "\n",
    "urlBola = \"https://www.bola.com\"\n",
    "responseBola = requests.request(\"GET\", urlBola).text\n",
    "dataBola = BeautifulSoup(responseBola, \"html.parser\")\n",
    "\n",
    "urlDetik = \"https://sport.detik.com/?tag_from=wp_sepakbola_firstnav_detikSport\"\n",
    "responseDetik = requests.request(\"GET\", urlDetik).text\n",
    "dataDetik = BeautifulSoup(responseDetik, \"html.parser\")"
   ]
  },
  {
   "cell_type": "code",
   "execution_count": 41,
   "metadata": {},
   "outputs": [],
   "source": [
    "banyakDataGoal = dataGoal.find_all('table', attrs={'class':'widget-news-card card-type-article'}, limit=10)\n",
    "isiDataGoal = []\n",
    "\n",
    "for dataGoalX in banyakDataGoal:\n",
    "    detailGoal = {}\n",
    "    linkGoal = dataGoalX.find('td', attrs={'class':'widget-news-card__image'})\n",
    "    judulGoal = dataGoalX.find('td', attrs={'class':'widget-news-card__content'})\n",
    "    tanggalGoal = judulGoal.find('div', attrs={'class':'widget-news-card__date'}).text\n",
    "    detailGoal[\"waktu\"] = tanggalGoal\n",
    "    judulGoal = judulGoal.find('h3', attrs={'class':'widget-news-card__title'})\n",
    "    link = linkGoal.find('a', href=True)\n",
    "    foto = linkGoal.find('img')\n",
    "    judul = judulGoal.find('a').text\n",
    "    detailGoal[\"link\"] = \"goal.com\" + link['href']\n",
    "    detailGoal[\"foto\"] = foto['src']\n",
    "    detailGoal[\"judul\"] = judul\n",
    "    detailGoal[\"source\"] = 'https://www.goal.com/id'\n",
    "    isiDataGoal.append(detailGoal)\n",
    "pd.DataFrame.from_dict(isiDataGoal).to_csv(\"goal.csv\", index=False)"
   ]
  },
  {
   "cell_type": "code",
   "execution_count": 42,
   "metadata": {},
   "outputs": [],
   "source": [
    "banyakDataPandit = dataPandit.find_all('article', attrs={'class':'news-block small-block'}, limit=10)\n",
    "isiDataPandit = []\n",
    "for dataPanditX in banyakDataPandit:\n",
    "    detailPandit = {}\n",
    "    linkPandit = dataPanditX.find('a', attrs={'class':'overlay-link'}, href=True)\n",
    "    fotoPandit = linkPandit.find('img', attrs={'style':'max-height:200px;'})\n",
    "    judulPandit = dataPanditX.find('h3')\n",
    "    judulPandit = judulPandit.find('a').text\n",
    "    waktuPandit = dataPanditX.find('p').text\n",
    "    detailPandit[\"waktu\"] = waktuPandit.strip().replace(\"/\", \"-\") + \":00\"\n",
    "    detailPandit[\"link\"] = linkPandit['href']\n",
    "    detailPandit[\"foto\"] = fotoPandit['src']\n",
    "    detailPandit[\"judul\"] = judulPandit.strip()\n",
    "    detailPandit[\"source\"] = \"https://www.panditfootball.com\"\n",
    "    isiDataPandit.append(detailPandit)\n",
    "pd.DataFrame.from_dict(isiDataPandit).to_csv(\"pandit.csv\", index=False)"
   ]
  },
  {
   "cell_type": "code",
   "execution_count": 43,
   "metadata": {},
   "outputs": [],
   "source": [
    "banyakDataBola = dataBola.find_all('li', attrs={'class':'headline--bottom-slider__item'})\n",
    "isiDataBola = []\n",
    "for dataBolaX in banyakDataBola:\n",
    "    detailBola = {}\n",
    "    linkBola = dataBolaX.find('a', attrs={'class':'ui--a headline--bottom-slider__link'}, href=True)\n",
    "    fotoBola = dataBolaX.find('img', attrs={'class':'small-img'})\n",
    "    judulBola = dataBolaX.find('div', attrs={'class':'headline--bottom-slider__item_title'}).text\n",
    "    waktuBola = dataBolaX.find('time', attrs={'class':'headline--bottom-slider__item_timestamp timeago'})\n",
    "    detailBola[\"waktu\"] = waktuBola['datetime'].replace('T', \" \")[:19]\n",
    "    detailBola[\"link\"] = linkBola['href']\n",
    "    detailBola[\"foto\"] = fotoBola['src']\n",
    "    detailBola[\"judul\"] = judulBola\n",
    "    detailBola[\"source\"] = \"https://www.bola.com\"\n",
    "    isiDataBola.append(detailBola)\n",
    "pd.DataFrame.from_dict(isiDataBola).to_csv(\"bola.csv\", index=False)"
   ]
  },
  {
   "cell_type": "code",
   "execution_count": 44,
   "metadata": {},
   "outputs": [],
   "source": [
    "banyakDataDetik = dataDetik.find_all('article', attrs={'class':'gtm_newsfeed_artikel'}, limit=20)\n",
    "isiDataDetik = []\n",
    "for dataDetikX in banyakDataDetik:\n",
    "    detailDetik = {}\n",
    "    linkDetikSepakbola = dataDetikX.find('div', attrs={'class':'img_con lqd'})\n",
    "    linkDetik = linkDetikSepakbola.find('a', href=True)\n",
    "    link = linkDetik['href'].find('sepakbola')\n",
    "    if (link != -1):\n",
    "        waktuDetik = dataDetikX.find('span', attrs={'class':'labdate f11'}).text.replace(\" WIB\", \"\")\n",
    "        detailDetik[\"waktu\"] = waktuDetik[36:].strip() + \":00\"\n",
    "        detailDetik[\"link\"] = linkDetik['href']\n",
    "        fotoDetik = linkDetikSepakbola.find('img')\n",
    "        detailDetik[\"foto\"] = fotoDetik['src']\n",
    "        judulDetik = dataDetikX.find('h2').text\n",
    "        detailDetik[\"judul\"] = judulDetik\n",
    "        detailDetik[\"source\"] = \"sport.detik.com\"\n",
    "        isiDataDetik.append(detailDetik)\n",
    "pd.DataFrame.from_dict(isiDataDetik).to_csv(\"detik.csv\", index=False)"
   ]
  },
  {
   "cell_type": "code",
   "execution_count": null,
   "metadata": {},
   "outputs": [],
   "source": []
  }
 ],
 "metadata": {
  "kernelspec": {
   "display_name": "Python 3",
   "language": "python",
   "name": "python3"
  },
  "language_info": {
   "codemirror_mode": {
    "name": "ipython",
    "version": 3
   },
   "file_extension": ".py",
   "mimetype": "text/x-python",
   "name": "python",
   "nbconvert_exporter": "python",
   "pygments_lexer": "ipython3",
   "version": "3.8.5"
  }
 },
 "nbformat": 4,
 "nbformat_minor": 4
}
